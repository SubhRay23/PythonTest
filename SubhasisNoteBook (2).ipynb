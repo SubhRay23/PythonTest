{
 "cells": [
  {
   "cell_type": "markdown",
   "id": "7fc1c968-342c-4431-a565-ffca4f178754",
   "metadata": {},
   "source": [
    "# Jupyter Notebook in Watson Studio"
   ]
  },
  {
   "cell_type": "markdown",
   "id": "0fac5866-4725-4a58-b825-010e225f6a00",
   "metadata": {},
   "source": [
    "# Subhasis Ray"
   ]
  },
  {
   "cell_type": "markdown",
   "id": "e8f7c245-c485-4bde-b024-6e50f55a6a04",
   "metadata": {},
   "source": [
    "_I Love to play with Data_"
   ]
  },
  {
   "cell_type": "markdown",
   "id": "bdda4224-6b84-45af-b2f7-189999c69424",
   "metadata": {},
   "source": [
    "\n",
    "Subh | Alok | Rahul\n",
    "-----|------|------\n",
    "41|40|42\n"
   ]
  },
  {
   "cell_type": "markdown",
   "id": "eb281bc8-d637-481c-9ef0-c7053cb16323",
   "metadata": {},
   "source": [
    "### This our age card"
   ]
  },
  {
   "cell_type": "markdown",
   "id": "8dfb9649-b7c7-4c51-9717-5f8cb07c0891",
   "metadata": {},
   "source": [
    "41+40+42/3"
   ]
  },
  {
   "cell_type": "markdown",
   "id": "fd43beaa-b5ac-4d6f-88aa-0da140fa9cbd",
   "metadata": {},
   "source": [
    "1. Item One\n",
    "1. Item Two\n",
    "1. Item Three\n",
    "___\n",
    "* Item One\n",
    "* Item Two\n",
    "* Item Three"
   ]
  },
  {
   "cell_type": "code",
   "execution_count": null,
   "id": "1d0c559b-31b6-484d-9a99-46a200c6c173",
   "metadata": {},
   "outputs": [],
   "source": []
  }
 ],
 "metadata": {
  "kernelspec": {
   "display_name": "Python",
   "language": "python",
   "name": "conda-env-python-py"
  },
  "language_info": {
   "codemirror_mode": {
    "name": "ipython",
    "version": 3
   },
   "file_extension": ".py",
   "mimetype": "text/x-python",
   "name": "python",
   "nbconvert_exporter": "python",
   "pygments_lexer": "ipython3",
   "version": "3.7.12"
  }
 },
 "nbformat": 4,
 "nbformat_minor": 5
}
