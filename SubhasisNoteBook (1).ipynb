{
 "cells": [
  {
   "cell_type": "markdown",
   "id": "efa29101-b9d2-4645-933d-02fdc256f9e4",
   "metadata": {},
   "source": [
    "# Jupyter Notebook in Watson Studio"
   ]
  },
  {
   "cell_type": "markdown",
   "id": "74bc580c-8577-4087-a95f-133d9bc9edd7",
   "metadata": {},
   "source": [
    "\n",
    "Subh | Alok | Rahul\n",
    "-----|------|------\n",
    "30|40|50\n"
   ]
  },
  {
   "cell_type": "code",
   "execution_count": null,
   "id": "edee5907-fada-4ea5-bd62-e1acf14cab9b",
   "metadata": {},
   "outputs": [],
   "source": []
  }
 ],
 "metadata": {
  "kernelspec": {
   "display_name": "Python",
   "language": "python",
   "name": "conda-env-python-py"
  },
  "language_info": {
   "codemirror_mode": {
    "name": "ipython",
    "version": 3
   },
   "file_extension": ".py",
   "mimetype": "text/x-python",
   "name": "python",
   "nbconvert_exporter": "python",
   "pygments_lexer": "ipython3",
   "version": "3.7.12"
  }
 },
 "nbformat": 4,
 "nbformat_minor": 5
}
